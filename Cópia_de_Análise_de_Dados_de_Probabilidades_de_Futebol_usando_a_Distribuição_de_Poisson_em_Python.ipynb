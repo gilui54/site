{
  "nbformat": 4,
  "nbformat_minor": 0,
  "metadata": {
    "colab": {
      "private_outputs": true,
      "provenance": [],
      "collapsed_sections": [
        "JES_NIODM2WE"
      ],
      "toc_visible": true,
      "include_colab_link": true
    },
    "kernelspec": {
      "name": "python3",
      "display_name": "Python 3"
    },
    "language_info": {
      "name": "python"
    },
    "gpuClass": "standard"
  },
  "cells": [
    {
      "cell_type": "markdown",
      "metadata": {
        "id": "view-in-github",
        "colab_type": "text"
      },
      "source": [
        "<a href=\"https://colab.research.google.com/github/gilui54/site/blob/master/C%C3%B3pia_de_An%C3%A1lise_de_Dados_de_Probabilidades_de_Futebol_usando_a_Distribui%C3%A7%C3%A3o_de_Poisson_em_Python.ipynb\" target=\"_parent\"><img src=\"https://colab.research.google.com/assets/colab-badge.svg\" alt=\"Open In Colab\"/></a>"
      ]
    },
    {
      "cell_type": "markdown",
      "source": [
        "## @FutPythonTrader"
      ],
      "metadata": {
        "id": "JES_NIODM2WE"
      }
    },
    {
      "cell_type": "code",
      "source": [
        "import pandas as pd\n",
        "import numpy as np\n",
        "import plotly.express as px\n",
        "# from google.colab import data_table\n",
        "# data_table.enable_dataframe_formatter()\n",
        "import warnings\n",
        "warnings.filterwarnings('ignore')\n",
        "\n",
        "def dia():\n",
        "    from datetime import date, timedelta\n",
        "    dia = date.today() + timedelta(0)\n",
        "    return dia\n",
        "\n",
        "def drop_reset_index(df):\n",
        "    df = df.dropna()\n",
        "    df = df.reset_index(drop=True)\n",
        "    df.index += 1\n",
        "    return df\n",
        "\n",
        "def grafico(df, nome):\n",
        "    df = df.reset_index(drop=True)\n",
        "    df.index += 1\n",
        "    df['Profit_acu'] = df.Profit.cumsum()\n",
        "    profit = round(df.Profit_acu.tail(1).item(),2)\n",
        "    ROI = round((df.Profit_acu.tail(1)/len(df)*100).item(),2)\n",
        "    df.Profit_acu.plot(title=nome, xlabel='Entradas', ylabel='Stakes')\n",
        "    print(\"Profit:\",profit,\"stakes em\", len(df),\"jogos\")\n",
        "    print(\"ROI:\",ROI,\"%\")"
      ],
      "metadata": {
        "id": "nTma97iBM3IZ"
      },
      "execution_count": null,
      "outputs": []
    },
    {
      "cell_type": "markdown",
      "source": [
        "## Importando a Base de Dados"
      ],
      "metadata": {
        "id": "M-ZOjqTNM7GS"
      }
    },
    {
      "cell_type": "code",
      "source": [
        "df = pd.read_csv(\"https://www.football-data.co.uk/new/BRA.csv\")\n",
        "print(df.columns)\n",
        "df = df[['Home','Away','HG','AG']]\n",
        "df.columns = ['Home','Away','Goals_H','Goals_A']\n",
        "df = drop_reset_index(df)\n",
        "df"
      ],
      "metadata": {
        "id": "Eb2_MXsYM6fV"
      },
      "execution_count": null,
      "outputs": []
    },
    {
      "cell_type": "markdown",
      "source": [
        "## Análise Por Poisson"
      ],
      "metadata": {
        "id": "Bq-QFkKm26Aq"
      }
    },
    {
      "cell_type": "markdown",
      "source": [
        "Corinthians - 1.68\n",
        "\n",
        "Santos - 5.80\n",
        "\n",
        "Empate - 3.20"
      ],
      "metadata": {
        "id": "6GCQYMHg2FK1"
      }
    },
    {
      "cell_type": "markdown",
      "source": [
        "### 01 - Média dos Gols Marcados em Casa na Liga"
      ],
      "metadata": {
        "id": "k9KMG16Dz9Fi"
      }
    },
    {
      "cell_type": "code",
      "source": [
        "Gols_Total_Home = df['Goals_H'].sum()\n",
        "Media_Gols_Total_Home = (Gols_Total_Home/df.shape[0]).round(2)\n",
        "print(\"Média de Gols Marcados em Casa na Liga: \" +str(Media_Gols_Total_Home))"
      ],
      "metadata": {
        "id": "ioGV1s1X0U-5"
      },
      "execution_count": null,
      "outputs": []
    },
    {
      "cell_type": "markdown",
      "source": [
        "### 02 - Média dos Gols Marcados em Fora de Casa na Liga"
      ],
      "metadata": {
        "id": "1fZj-QRT0Vki"
      }
    },
    {
      "cell_type": "code",
      "source": [
        "Gols_Total_Away = df['Goals_A'].sum()\n",
        "Media_Gols_Total_Away = (Gols_Total_Away/df.shape[0]).round(2)\n",
        "print(\"Média de Gols Marcados Fora de Casa na Liga: \" +str(Media_Gols_Total_Away))"
      ],
      "metadata": {
        "id": "O3SE8DuF028r"
      },
      "execution_count": null,
      "outputs": []
    },
    {
      "cell_type": "markdown",
      "source": [
        "### 03 - Média de Gols Marcados pela Equipe da Casa em Casa"
      ],
      "metadata": {
        "id": "QmTZbsu61m7g"
      }
    },
    {
      "cell_type": "code",
      "source": [
        "home_team = df.loc[df['Home'] == \"Corinthians\"]\n",
        "\n",
        "Gols_Marcados_Home = home_team['Goals_H'].sum()\n",
        "Media_Gols_Marcados_Home = (Gols_Marcados_Home/len(home_team)).round(2)\n",
        "print(\"Media de Gols Marcados pelo Mandante em Casa: \" + str(Media_Gols_Marcados_Home))"
      ],
      "metadata": {
        "id": "wuGsD_H51mM_"
      },
      "execution_count": null,
      "outputs": []
    },
    {
      "cell_type": "markdown",
      "source": [
        "### 04 - Média de Gols Sofridos pela Equipe da Casa em Casa"
      ],
      "metadata": {
        "id": "U6vEj5AB2_9B"
      }
    },
    {
      "cell_type": "code",
      "source": [
        "home_team = df.loc[df['Home'] == \"Corinthians\"]\n",
        "\n",
        "Gols_Sofridos_Home = home_team['Goals_A'].sum()\n",
        "Media_Gols_Sofridos_Home = (Gols_Sofridos_Home/len(home_team)).round(2)\n",
        "print(\"Media de Gols Sofridos pelo Mandante em Casa: \" + str(Media_Gols_Sofridos_Home))"
      ],
      "metadata": {
        "id": "ZE5U4ZY82_Tl"
      },
      "execution_count": null,
      "outputs": []
    },
    {
      "cell_type": "markdown",
      "source": [
        "### 05 - Média de Gols Marcados Fora de Casa pelo Visitante"
      ],
      "metadata": {
        "id": "0o5Ekb-W36ZH"
      }
    },
    {
      "cell_type": "code",
      "source": [
        "away_team = df.loc[df['Away'] == \"Santos\"]\n",
        "\n",
        "Gols_Marcados_Away = away_team['Goals_A'].sum()\n",
        "Media_Gols_Marcados_Away = (Gols_Marcados_Away/len(away_team)).round(2)\n",
        "print(\"Media de Gols Marcados pelo Visitante Fora de Casa: \" + str(Media_Gols_Marcados_Away))"
      ],
      "metadata": {
        "id": "cBug6LWv36jh"
      },
      "execution_count": null,
      "outputs": []
    },
    {
      "cell_type": "markdown",
      "source": [
        "### 06 - Média de Gols Sofridos Fora de Casa pelo Visitante"
      ],
      "metadata": {
        "id": "sGHyy_EI36th"
      }
    },
    {
      "cell_type": "code",
      "source": [
        "away_team = df.loc[df['Away'] == \"Santos\"]\n",
        "\n",
        "Gols_Sofridos_Away = away_team['Goals_H'].sum()\n",
        "Media_Gols_Sofridos_Away = (Gols_Sofridos_Away/len(away_team)).round(2)\n",
        "print(\"Media de Gols Sofridos pelo Visitante Fora de Casa: \" + str(Media_Gols_Sofridos_Away))"
      ],
      "metadata": {
        "id": "WV0tMoUD366C"
      },
      "execution_count": null,
      "outputs": []
    },
    {
      "cell_type": "markdown",
      "source": [
        "### 07 - Força de Ataque do Time da Casa"
      ],
      "metadata": {
        "id": "6uhGWyR2568s"
      }
    },
    {
      "cell_type": "code",
      "source": [
        "Power_Attacking_Home = (Media_Gols_Marcados_Home / Media_Gols_Total_Home).round(2)\n",
        "print(\"Força de Ataque do Time da Casa: \" + str(Power_Attacking_Home))"
      ],
      "metadata": {
        "id": "JzVvDHIo6EO7"
      },
      "execution_count": null,
      "outputs": []
    },
    {
      "cell_type": "markdown",
      "source": [
        "### 08 - Força da Defesa do Time da Casa"
      ],
      "metadata": {
        "id": "OAFrKozL6qGc"
      }
    },
    {
      "cell_type": "code",
      "source": [
        "Power_Defensive_Home = (Media_Gols_Sofridos_Home / Media_Gols_Total_Away).round(2)\n",
        "print(\"Força da Defesa do Time da Casa: \" + str(Power_Defensive_Home))"
      ],
      "metadata": {
        "id": "hJoharBf6uRy"
      },
      "execution_count": null,
      "outputs": []
    },
    {
      "cell_type": "markdown",
      "source": [
        "### 09 - Força do Ataque do Time Visitante"
      ],
      "metadata": {
        "id": "PB-WVSp_7FqG"
      }
    },
    {
      "cell_type": "code",
      "source": [
        "Power_Attacking_Away = (Media_Gols_Marcados_Away / Media_Gols_Total_Away).round(2)\n",
        "print(\"Força de Ataque do Time Visitante: \" + str(Power_Attacking_Away))"
      ],
      "metadata": {
        "id": "OZ-MHVU07MR2"
      },
      "execution_count": null,
      "outputs": []
    },
    {
      "cell_type": "markdown",
      "source": [
        "### 10 - Força da Defesa do Time Visitante"
      ],
      "metadata": {
        "id": "S_hggqBC7f4N"
      }
    },
    {
      "cell_type": "code",
      "source": [
        "Power_Defensive_Away = (Media_Gols_Sofridos_Away / Media_Gols_Total_Home).round(2)\n",
        "print(\"Força da Defesa do Time Visitante: \" + str(Power_Defensive_Away))"
      ],
      "metadata": {
        "id": "_EolTrBX7ipJ"
      },
      "execution_count": null,
      "outputs": []
    },
    {
      "cell_type": "markdown",
      "source": [
        "### 11 - Expectativa de Gols do Time da Casa"
      ],
      "metadata": {
        "id": "X4LDOEgE8FjE"
      }
    },
    {
      "cell_type": "code",
      "source": [
        "Exp_Goals_Home = (Power_Attacking_Home * Power_Defensive_Away * Media_Gols_Total_Home).round(2)\n",
        "print(\"Expectativa de Gols para o Mandante: \"+ str(Exp_Goals_Home))"
      ],
      "metadata": {
        "id": "-YibPvv58LUt"
      },
      "execution_count": null,
      "outputs": []
    },
    {
      "cell_type": "markdown",
      "source": [
        "### 12 - Expectativa de Gols do Time Visitante"
      ],
      "metadata": {
        "id": "27cPsPFy8ucP"
      }
    },
    {
      "cell_type": "code",
      "source": [
        "Exp_Goals_Away = (Power_Attacking_Away * Power_Defensive_Home * Media_Gols_Total_Away).round(2)\n",
        "print(\"Expectativa de Gols para o Visitante: \"+ str(Exp_Goals_Away))"
      ],
      "metadata": {
        "id": "5t09YtJz8twC"
      },
      "execution_count": null,
      "outputs": []
    },
    {
      "cell_type": "code",
      "source": [
        "def xg_goals(df, home, away):\n",
        "\n",
        "    Gols_Total_Home = df['Goals_H'].sum()\n",
        "    Media_Gols_Total_Home = (Gols_Total_Home/df.shape[0]).round(2)\n",
        "    print(\"Média de Gols Marcados em Casa na Liga: \" +str(Media_Gols_Total_Home))\n",
        "\n",
        "    Gols_Total_Away = df['Goals_A'].sum()\n",
        "    Media_Gols_Total_Away = (Gols_Total_Away/df.shape[0]).round(2)\n",
        "    print(\"Média de Gols Marcados Fora de Casa na Liga: \" +str(Media_Gols_Total_Away))\n",
        "\n",
        "    home_team = df.loc[df['Home'] == home]\n",
        "    away_team = df.loc[df['Away'] == away]\n",
        "\n",
        "    Gols_Marcados_Home = home_team['Goals_H'].sum()\n",
        "    Media_Gols_Marcados_Home = (Gols_Marcados_Home/len(home_team)).round(2)\n",
        "    print(\"Media de Gols Marcados pelo Mandante em Casa: \" + str(Media_Gols_Marcados_Home))\n",
        "\n",
        "    Gols_Sofridos_Home = home_team['Goals_A'].sum()\n",
        "    Media_Gols_Sofridos_Home = (Gols_Sofridos_Home/len(home_team)).round(2)\n",
        "    print(\"Media de Gols Sofridos pelo Mandante em Casa: \" + str(Media_Gols_Sofridos_Home))\n",
        "\n",
        "    Gols_Marcados_Away = away_team['Goals_A'].sum()\n",
        "    Media_Gols_Marcados_Away = (Gols_Marcados_Away/len(away_team)).round(2)\n",
        "    print(\"Media de Gols Marcados pelo Visitante Fora de Casa: \" + str(Media_Gols_Marcados_Away))\n",
        "\n",
        "    Gols_Sofridos_Away = away_team['Goals_H'].sum()\n",
        "    Media_Gols_Sofridos_Away = (Gols_Sofridos_Away/len(away_team)).round(2)\n",
        "    print(\"Media de Gols Sofridos pelo Visitante Fora de Casa: \" + str(Media_Gols_Sofridos_Away))\n",
        "\n",
        "    Power_Attacking_Home = (Media_Gols_Marcados_Home/ Media_Gols_Total_Home).round(2)\n",
        "    print(\"Força de Ataque do Time da Casa: \" + str(Power_Attacking_Home))\n",
        "\n",
        "    Power_Defensive_Home = (Media_Gols_Sofridos_Home/ Media_Gols_Total_Away).round(2)\n",
        "    print(\"Força da Defesa do Time da Casa: \" + str(Power_Defensive_Home))\n",
        "\n",
        "    Power_Attacking_Away = (Media_Gols_Marcados_Away/ Media_Gols_Total_Away).round(2)\n",
        "    print(\"Força de Ataque do Time Visitante: \" + str(Power_Attacking_Away))\n",
        "\n",
        "    Power_Defensive_Away = (Media_Gols_Sofridos_Away/ Media_Gols_Total_Home).round(2)\n",
        "    print(\"Força da Defesa do Time Visitante: \" + str(Power_Defensive_Away))\n",
        "\n",
        "    Exp_Goals_Home = (Power_Attacking_Home * Power_Defensive_Away * Media_Gols_Total_Home).round(2)\n",
        "    print(\"Expectativa de Gols para o Mandante: \"+ str(Exp_Goals_Home))\n",
        "\n",
        "    Exp_Goals_Away = (Power_Attacking_Away * Power_Defensive_Home * Media_Gols_Total_Away).round(2)\n",
        "    print(\"Expectativa de Gols para o Visitante: \"+ str(Exp_Goals_Away))\n",
        "\n",
        "    print('')\n",
        "\n",
        "    return Exp_Goals_Home, Exp_Goals_Away"
      ],
      "metadata": {
        "id": "Ub3uiUiS5nfQ"
      },
      "execution_count": null,
      "outputs": []
    },
    {
      "cell_type": "code",
      "source": [
        "xg_goals(df,'Corinthians','Santos')"
      ],
      "metadata": {
        "id": "AEobNmrU9VWd"
      },
      "execution_count": null,
      "outputs": []
    },
    {
      "cell_type": "code",
      "source": [
        "home_goals, away_goals = xg_goals(df,'Corinthians','Santos')"
      ],
      "metadata": {
        "id": "dKojqJtJ96LF"
      },
      "execution_count": null,
      "outputs": []
    },
    {
      "cell_type": "code",
      "source": [
        "from numpy import random\n",
        "home_poisson = random.poisson(lam=home_goals, size=100000)\n",
        "away_poisson = random.poisson(lam=away_goals, size=100000)"
      ],
      "metadata": {
        "id": "2sVYr8tX-gdW"
      },
      "execution_count": null,
      "outputs": []
    },
    {
      "cell_type": "code",
      "source": [
        "def home_team_goal_prob(n):\n",
        "    goals = 0\n",
        "    for i in range(0, 10000):\n",
        "        if home_poisson[i] == n:\n",
        "            goals = goals + 1\n",
        "            prob = goals / 10000\n",
        "    return prob, goals"
      ],
      "metadata": {
        "id": "Rtqi92ej_OG8"
      },
      "execution_count": null,
      "outputs": []
    },
    {
      "cell_type": "code",
      "source": [
        "def away_team_goal_prob(n):\n",
        "    goals = 0\n",
        "    for i in range(0, 10000):\n",
        "        if away_poisson[i] == n:\n",
        "            goals = goals + 1\n",
        "            prob = goals / 10000\n",
        "    return prob, goals"
      ],
      "metadata": {
        "id": "Asu8j1bP_WlF"
      },
      "execution_count": null,
      "outputs": []
    },
    {
      "cell_type": "code",
      "source": [
        "home_0, g = home_team_goal_prob(0)\n",
        "print(home_0, g)\n",
        "\n",
        "home_1, g = home_team_goal_prob(1)\n",
        "print(home_1, g)\n",
        "\n",
        "home_2, g = home_team_goal_prob(2)\n",
        "print(home_2, g)\n",
        "\n",
        "home_3, g = home_team_goal_prob(3)\n",
        "print(home_3, g)\n",
        "\n",
        "home_4, g = home_team_goal_prob(4)\n",
        "print(home_4, g)\n",
        "\n",
        "home_5, g = home_team_goal_prob(5)\n",
        "print(home_5, g)"
      ],
      "metadata": {
        "id": "-yKmV79E_jDd"
      },
      "execution_count": null,
      "outputs": []
    },
    {
      "cell_type": "code",
      "source": [
        "away_0, g = away_team_goal_prob(0)\n",
        "print(away_0, g)\n",
        "\n",
        "away_1, g = away_team_goal_prob(1)\n",
        "print(away_1, g)\n",
        "\n",
        "away_2, g = away_team_goal_prob(2)\n",
        "print(away_2, g)\n",
        "\n",
        "away_3, g = away_team_goal_prob(3)\n",
        "print(away_3, g)\n",
        "\n",
        "away_4, g = away_team_goal_prob(4)\n",
        "print(away_4, g)\n",
        "\n",
        "away_5, g = away_team_goal_prob(5)\n",
        "print(away_5, g)"
      ],
      "metadata": {
        "id": "Ojh4uNXN_qGj"
      },
      "execution_count": null,
      "outputs": []
    },
    {
      "cell_type": "code",
      "source": [
        "home_chance = [home_0, home_1, home_2, home_3, home_4, home_5]\n",
        "home_chance_frame = pd.DataFrame(home_chance, columns=['Probs'])\n",
        "home_chance_frame = home_chance_frame\n",
        "home_chance_frame"
      ],
      "metadata": {
        "id": "XzUmCaxh_sbt"
      },
      "execution_count": null,
      "outputs": []
    },
    {
      "cell_type": "code",
      "source": [
        "away_chance = [away_0, away_1, away_2, away_3, away_4, away_5]\n",
        "away_chance_frame = pd.DataFrame(away_chance, columns=['Probs'])\n",
        "away_chance_frame = away_chance_frame\n",
        "away_chance_frame"
      ],
      "metadata": {
        "id": "FwZeMO6g_trJ"
      },
      "execution_count": null,
      "outputs": []
    },
    {
      "cell_type": "code",
      "source": [
        "df_cross = home_chance_frame.dot(away_chance_frame.T)\n",
        "df_cross = df_cross.round(3)\n",
        "df_cross"
      ],
      "metadata": {
        "id": "I-52CxjC_wOi"
      },
      "execution_count": null,
      "outputs": []
    },
    {
      "cell_type": "code",
      "source": [
        "def printDiagonalSums(mat, n):\n",
        "\n",
        "    principal = 0\n",
        "    secondary = 0;\n",
        "    for i in range(0, n):\n",
        "        for j in range(0, n):\n",
        "\n",
        "            # Condition for principal diagonal\n",
        "            if (i == j):\n",
        "                principal += mat[i][j]\n",
        "\n",
        "            # Condition for secondary diagonal\n",
        "            if ((i + j) == (n - 1)):\n",
        "                secondary += mat[i][j]\n",
        "\n",
        "    return principal"
      ],
      "metadata": {
        "id": "X3yJ8N8H_0_R"
      },
      "execution_count": null,
      "outputs": []
    },
    {
      "cell_type": "code",
      "source": [
        "import numpy as np\n",
        "principal = printDiagonalSums(df_cross, 5)\n",
        "df_cross_up = df_cross.where(np.triu(np.ones(df_cross.shape)).astype(np.bool_))\n",
        "print(principal)"
      ],
      "metadata": {
        "id": "spA0yhCF_3LT"
      },
      "execution_count": null,
      "outputs": []
    },
    {
      "cell_type": "code",
      "source": [
        "draw = principal\n",
        "\n",
        "home_team_win = df_cross.sum().sum() - df_cross_up.sum().sum()\n",
        "away_team_win = df_cross_up.sum().sum() - principal\n",
        "\n",
        "print(\"Prob Home Win: \" + str(np.round(home_team_win, 3)*100))\n",
        "print(\"Prob Draw Win: \" + str(np.round(draw, 3)*100))\n",
        "print(\"Prob Away Win: \" + str(np.round(away_team_win, 3)*100))"
      ],
      "metadata": {
        "id": "jbXB-HPL_6cA"
      },
      "execution_count": null,
      "outputs": []
    },
    {
      "cell_type": "code",
      "source": [
        "draw_odds = 1 / draw\n",
        "home_team_win_odds = 1 / home_team_win\n",
        "away_team_win_odds = 1 / away_team_win\n",
        "\n",
        "print(\"Odd Home: \" + str(np.round(home_team_win_odds, 2)))\n",
        "print(\"Odd Draw: \" + str(np.round(draw_odds, 2)))\n",
        "print(\"Odd Away: \" + str(np.round(away_team_win_odds, 2)))"
      ],
      "metadata": {
        "id": "7hxQA9ZDAiJS"
      },
      "execution_count": null,
      "outputs": []
    },
    {
      "cell_type": "code",
      "source": [
        "bookie_home_team_win_odds = 1.69\n",
        "bookie_draw = 4.10\n",
        "bookie_away_team_win_odds = 5.80\n",
        "\n",
        "Bookie_home_win = 1/ bookie_home_team_win_odds\n",
        "Bookie_draw = 1/ bookie_draw\n",
        "Bookie_away_win = 1/ bookie_away_team_win_odds\n",
        "\n",
        "print(\"Prob Home Bookie: \" + str(np.round(Bookie_home_win * 100, 2)))\n",
        "print(\"Prob Draw Bookie: \" + str(np.round(Bookie_draw * 100, 2)))\n",
        "print(\"Prob Away Bookie: \" +str(np.round(Bookie_away_win * 100)))"
      ],
      "metadata": {
        "id": "98k-9Uj9Akp5"
      },
      "execution_count": null,
      "outputs": []
    }
  ]
}