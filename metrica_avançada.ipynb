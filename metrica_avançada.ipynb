{
  "nbformat": 4,
  "nbformat_minor": 0,
  "metadata": {
    "colab": {
      "provenance": [],
      "authorship_tag": "ABX9TyN7F8LWCkXopjPjLxoCbdOs",
      "include_colab_link": true
    },
    "kernelspec": {
      "name": "python3",
      "display_name": "Python 3"
    },
    "language_info": {
      "name": "python"
    }
  },
  "cells": [
    {
      "cell_type": "markdown",
      "metadata": {
        "id": "view-in-github",
        "colab_type": "text"
      },
      "source": [
        "<a href=\"https://colab.research.google.com/github/gilui54/site/blob/master/metrica_avan%C3%A7ada.ipynb\" target=\"_parent\"><img src=\"https://colab.research.google.com/assets/colab-badge.svg\" alt=\"Open In Colab\"/></a>"
      ]
    },
    {
      "cell_type": "code",
      "source": [
        "# probabilidade de marcar e sofrer gols\n",
        "from scipy.stats import poisson\n",
        "\n",
        "# Média de gols por jogo\n",
        "media_gols = 1.8\n",
        "media_gols_sofridos = 1.2\n",
        "\n",
        "prob_marcar_1_ou_mais = 1 - poisson.pmf(0, media_gols)\n",
        "print(f'Probabilidade de marcar pelo menos 1 gol: {prob_marcar_1_ou_mais:.2%}')\n",
        "\n",
        "prob_sofrer_1_ou_mais = 1 - poisson.pmf(0, media_gols_sofridos)\n",
        "print(f'Probabilidade de sofrer pelo menos 1 gol: {prob_sofrer_1_ou_mais:.2%}')"
      ],
      "metadata": {
        "colab": {
          "base_uri": "https://localhost:8080/"
        },
        "id": "ZBC1pjo24f2H",
        "outputId": "d4bb022b-ce7f-48f3-ae7f-2bc123faed76"
      },
      "execution_count": null,
      "outputs": [
        {
          "output_type": "stream",
          "name": "stdout",
          "text": [
            "Probabilidade de marcar pelo menos 1 gol: 83.47%\n",
            "Probabilidade de sofrer pelo menos 1 gol: 69.88%\n"
          ]
        }
      ]
    },
    {
      "cell_type": "code",
      "source": [
        "import numpy as np\n",
        "\n",
        "xGA = 1.5  # Gols esperados contra\n",
        "\n",
        "prob_sofrer = 1 - np.exp(-xGA)\n",
        "\n",
        "print(f'Probabilidade de sofrer pelo menos 1 gol: {prob_sofrer:.2%}')"
      ],
      "metadata": {
        "colab": {
          "base_uri": "https://localhost:8080/"
        },
        "id": "Ji5MaF_V5fXr",
        "outputId": "80891f63-42ed-4611-f0b3-996576bffb51"
      },
      "execution_count": null,
      "outputs": [
        {
          "output_type": "stream",
          "name": "stdout",
          "text": [
            "Probabilidade de sofrer pelo menos 1 gol: 77.69%\n"
          ]
        }
      ]
    },
    {
      "cell_type": "code",
      "execution_count": null,
      "metadata": {
        "id": "EwxXdYXurLBs",
        "outputId": "c190c4a3-9a29-440d-b021-61d75ece4054",
        "colab": {
          "base_uri": "https://localhost:8080/"
        }
      },
      "outputs": [
        {
          "output_type": "stream",
          "name": "stdout",
          "text": [
            "     time  score_forca\n",
            "0  Time A         4.05\n",
            "1  Time B         2.98\n"
          ]
        }
      ],
      "source": [
        "import pandas as pd\n",
        "\n",
        "# Criando um DataFrame com métricas de times (exemplo fictício)\n",
        "data = {\n",
        "    'time': ['Time A', 'Time B'],\n",
        "    'pontos_por_jogo': [2.1, 1.8],\n",
        "    'xG': [1.7, 1.4],\n",
        "    'xGA': [0.9, 1.2],\n",
        "    'posse_bola': [60, 55],\n",
        "    'chutes_no_alvo': [5.5, 4.3]\n",
        "}\n",
        "\n",
        "df = pd.DataFrame(data)\n",
        "\n",
        "# Criando um score simples para comparar os times\n",
        "df['score_forca'] = df['pontos_por_jogo'] + df['xG'] - df['xGA'] + (df['posse_bola'] / 100) + (df['chutes_no_alvo'] / 10)\n",
        "\n",
        "print(df[['time', 'score_forca']])"
      ]
    }
  ]
}